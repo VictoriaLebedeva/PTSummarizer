{
  "nbformat": 4,
  "nbformat_minor": 0,
  "metadata": {
    "colab": {
      "provenance": [],
      "collapsed_sections": []
    },
    "kernelspec": {
      "name": "python3",
      "display_name": "Python 3"
    },
    "language_info": {
      "name": "python"
    }
  },
  "cells": [
    {
      "cell_type": "markdown",
      "source": [
        "# Text Summatization \n",
        "\n",
        "Summarization is the task of condensing a piece of text to a shorter version, reducing the size of the initial text while at the same time preserving key informational elements and the meaning of content. Since manual text summarization is a time expensive and generally laborious task, the automatization of the task is gaining increasing popularity and therefore constitutes a strong motivation for academic research.\n",
        "\n",
        "There are 2 approaches of the text summarization: **extractive** and **abstractive**.\n",
        "\n",
        "\n",
        "*   **Extractive summarization** picks up sentences directly from the document based on a scoring function to form a coherent summary. This method work by identifying important sections of the text cropping out and stitch together portions of the content to produce a condensed version.\n",
        "*   **Abstractive summarization** methods aim at producing summary by interpreting the text using advanced natural language techniques in order to generate a new shorter text — parts of which may not appear as part of the original document, that conveys the most critical information from the original text.\n",
        "\n",
        "In this notebook we will perform TextRank algorithm, trying to summarize BBC news.\n"
      ],
      "metadata": {
        "id": "ihIGhGP2h7_d"
      }
    },
    {
      "cell_type": "code",
      "execution_count": 3,
      "metadata": {
        "id": "C-66JTtVghGD"
      },
      "outputs": [],
      "source": [
        "# import libraries\n",
        "import pandas as pd \n",
        "import numpy as np"
      ]
    },
    {
      "cell_type": "code",
      "source": [
        "df = pd.read_csv('/content/bbc_text_cls.csv')\n",
        "\n",
        "# we need only 1 text\n",
        "text = df.loc[1, 'text']\n",
        "text"
      ],
      "metadata": {
        "colab": {
          "base_uri": "https://localhost:8080/",
          "height": 123
        },
        "id": "JWXhUYxzi7e6",
        "outputId": "5ea40f04-6264-467e-de16-36acb04a5f05"
      },
      "execution_count": 4,
      "outputs": [
        {
          "output_type": "execute_result",
          "data": {
            "text/plain": [
              "'Dollar gains on Greenspan speech\\n\\nThe dollar has hit its highest level against the euro in almost three months after the Federal Reserve head said the US trade deficit is set to stabilise.\\n\\nAnd Alan Greenspan highlighted the US government\\'s willingness to curb spending and rising household savings as factors which may help to reduce it. In late trading in New York, the dollar reached $1.2871 against the euro, from $1.2974 on Thursday. Market concerns about the deficit has hit the greenback in recent months. On Friday, Federal Reserve chairman Mr Greenspan\\'s speech in London ahead of the meeting of G7 finance ministers sent the dollar higher after it had earlier tumbled on the back of worse-than-expected US jobs data. \"I think the chairman\\'s taking a much more sanguine view on the current account deficit than he\\'s taken for some time,\" said Robert Sinche, head of currency strategy at Bank of America in New York. \"He\\'s taking a longer-term view, laying out a set of conditions under which the current account deficit can improve this year and next.\"\\n\\nWorries about the deficit concerns about China do, however, remain. China\\'s currency remains pegged to the dollar and the US currency\\'s sharp falls in recent months have therefore made Chinese export prices highly competitive. But calls for a shift in Beijing\\'s policy have fallen on deaf ears, despite recent comments in a major Chinese newspaper that the \"time is ripe\" for a loosening of the peg. The G7 meeting is thought unlikely to produce any meaningful movement in Chinese policy. In the meantime, the US Federal Reserve\\'s decision on 2 February to boost interest rates by a quarter of a point - the sixth such move in as many months - has opened up a differential with European rates. The half-point window, some believe, could be enough to keep US assets looking more attractive, and could help prop up the dollar. The recent falls have partly been the result of big budget deficits, as well as the US\\'s yawning current account gap, both of which need to be funded by the buying of US bonds and assets by foreign firms and governments. The White House will announce its budget on Monday, and many commentators believe the deficit will remain at close to half a trillion dollars.'"
            ],
            "application/vnd.google.colaboratory.intrinsic+json": {
              "type": "string"
            }
          },
          "metadata": {},
          "execution_count": 4
        }
      ]
    },
    {
      "cell_type": "markdown",
      "source": [
        "Some text preprocessing steps."
      ],
      "metadata": {
        "id": "tk8BKc5s9NE6"
      }
    },
    {
      "cell_type": "code",
      "source": [
        "# ! pip install contractions"
      ],
      "metadata": {
        "id": "MLW01hhpl6Cr"
      },
      "execution_count": 6,
      "outputs": []
    },
    {
      "cell_type": "code",
      "source": [
        "import contractions\n",
        "import re\n",
        "\n",
        "import nltk\n",
        "nltk.download('punkt')\n",
        "\n",
        "from nltk.tokenize import sent_tokenize\n",
        "\n",
        "text = contractions.fix(text)\n",
        "text = re.sub('\\n\\n', ' ', text)\n",
        "\n",
        "# tokenization\n",
        "tokens = sent_tokenize(text)\n",
        "len(tokens)"
      ],
      "metadata": {
        "colab": {
          "base_uri": "https://localhost:8080/"
        },
        "id": "1B66mqO5mSxf",
        "outputId": "40cba0e0-b267-4887-f984-0737164b985c"
      },
      "execution_count": 7,
      "outputs": [
        {
          "output_type": "stream",
          "name": "stderr",
          "text": [
            "[nltk_data] Downloading package punkt to /root/nltk_data...\n",
            "[nltk_data]   Unzipping tokenizers/punkt.zip.\n"
          ]
        },
        {
          "output_type": "execute_result",
          "data": {
            "text/plain": [
              "15"
            ]
          },
          "metadata": {},
          "execution_count": 7
        }
      ]
    },
    {
      "cell_type": "markdown",
      "source": [
        "Then we convert text into vector of numbers."
      ],
      "metadata": {
        "id": "erd3XtTa9-Tx"
      }
    },
    {
      "cell_type": "code",
      "source": [
        "from sklearn.feature_extraction.text import TfidfVectorizer\n",
        "\n",
        "vectorizer = TfidfVectorizer()\n",
        "text_tfidf = vectorizer.fit_transform(tokens)"
      ],
      "metadata": {
        "id": "tOO4t2ppoOhH"
      },
      "execution_count": null,
      "outputs": []
    },
    {
      "cell_type": "markdown",
      "source": [
        "# Text Rank\n",
        "\n",
        "TextRank – is a graph-based ranking model for text processing which can be used in order to find the most relevant sentences in text and also to find keywords. Based on the PageRank algorithm.\n"
      ],
      "metadata": {
        "id": "PBNJ3Q251af2"
      }
    },
    {
      "cell_type": "code",
      "source": [
        "from sklearn.metrics.pairwise import cosine_similarity\n",
        "\n",
        "# calculate cosine similarity \n",
        "similarity_matrix = cosine_similarity(text_tfidf)\n",
        "\n",
        "for i in range(len(similarity_matrix)):\n",
        "  similarity_matrix[i] = similarity_matrix[i] / np.sum(similarity_matrix[i])  # transforn into matrix G"
      ],
      "metadata": {
        "id": "_Xr3G4WO1dPW"
      },
      "execution_count": null,
      "outputs": []
    },
    {
      "cell_type": "code",
      "source": [
        "similarity_matrix[0].sum()"
      ],
      "metadata": {
        "colab": {
          "base_uri": "https://localhost:8080/"
        },
        "id": "OHAx53HIGOrd",
        "outputId": "bc876c4f-8de5-44d5-fb37-2c2d025af9f4"
      },
      "execution_count": null,
      "outputs": [
        {
          "output_type": "execute_result",
          "data": {
            "text/plain": [
              "1.0"
            ]
          },
          "metadata": {},
          "execution_count": 10
        }
      ]
    },
    {
      "cell_type": "code",
      "source": [
        "U = np.ones_like(similarity_matrix) / len(similarity_matrix) # add smooth "
      ],
      "metadata": {
        "colab": {
          "base_uri": "https://localhost:8080/"
        },
        "id": "FeAuboH3GRmB",
        "outputId": "25ca7a4e-b03a-4a6f-b8e3-c22229906763"
      },
      "execution_count": null,
      "outputs": [
        {
          "output_type": "execute_result",
          "data": {
            "text/plain": [
              "array([[0.00671141, 0.00671141, 0.00671141, ..., 0.00671141, 0.00671141,\n",
              "        0.00671141],\n",
              "       [0.00671141, 0.00671141, 0.00671141, ..., 0.00671141, 0.00671141,\n",
              "        0.00671141],\n",
              "       [0.00671141, 0.00671141, 0.00671141, ..., 0.00671141, 0.00671141,\n",
              "        0.00671141],\n",
              "       ...,\n",
              "       [0.00671141, 0.00671141, 0.00671141, ..., 0.00671141, 0.00671141,\n",
              "        0.00671141],\n",
              "       [0.00671141, 0.00671141, 0.00671141, ..., 0.00671141, 0.00671141,\n",
              "        0.00671141],\n",
              "       [0.00671141, 0.00671141, 0.00671141, ..., 0.00671141, 0.00671141,\n",
              "        0.00671141]])"
            ]
          },
          "metadata": {},
          "execution_count": 16
        }
      ]
    },
    {
      "cell_type": "code",
      "source": [
        "factor = 0.15 \n",
        "A = (1 - factor) * similarity_matrix + factor * U\n",
        "A[0].sum()"
      ],
      "metadata": {
        "colab": {
          "base_uri": "https://localhost:8080/"
        },
        "id": "cyC8_XCLGqWy",
        "outputId": "4f0fb746-ed87-47f2-80cf-9cdd9421cedd"
      },
      "execution_count": null,
      "outputs": [
        {
          "output_type": "execute_result",
          "data": {
            "text/plain": [
              "1.0"
            ]
          },
          "metadata": {},
          "execution_count": 12
        }
      ]
    },
    {
      "cell_type": "code",
      "source": [
        "# find limiting distrubution (stationary distribution)\n",
        "value, vector = np.linalg.eig(A.T)\n",
        "\n",
        "limiting_dist = np.ones(len(A)) / len(A)\n",
        "threshold = 1e-8\n",
        "delta = float('inf')\n",
        "iters = 0\n",
        "\n",
        "while delta > threshold:\n",
        "  iters += 1\n",
        "\n",
        "  p = limiting_dist.dot(A)\n",
        "  delta = np.abs(p - limiting_dist).sum()\n",
        "  limiting_dist = p"
      ],
      "metadata": {
        "id": "qnFr7PgVG6pt"
      },
      "execution_count": null,
      "outputs": []
    },
    {
      "cell_type": "code",
      "source": [
        "limiting_dist"
      ],
      "metadata": {
        "id": "IWH54pqFQ-n7",
        "outputId": "0c8ad826-b09a-4381-fdea-5ef5bbf37f35",
        "colab": {
          "base_uri": "https://localhost:8080/"
        }
      },
      "execution_count": null,
      "outputs": [
        {
          "output_type": "execute_result",
          "data": {
            "text/plain": [
              "array([0.0067357 , 0.00492512, 0.00816282, 0.00743893, 0.01022865,\n",
              "       0.00856642, 0.00670511, 0.00643171, 0.00898258, 0.00600879,\n",
              "       0.00735009, 0.00803472, 0.00548668, 0.00717573, 0.0073911 ,\n",
              "       0.00631625, 0.00651664, 0.00728121, 0.01045734, 0.0069332 ,\n",
              "       0.00630915, 0.00407364, 0.00754037, 0.0060187 , 0.00306393,\n",
              "       0.00725798, 0.00392913, 0.00736709, 0.01007403, 0.00575486,\n",
              "       0.0060993 , 0.00495088, 0.00895693, 0.00997778, 0.00540578,\n",
              "       0.0062273 , 0.00444116, 0.00482682, 0.00626862, 0.00614313,\n",
              "       0.00662038, 0.00663935, 0.00766984, 0.00770023, 0.00443793,\n",
              "       0.00767137, 0.00856417, 0.00761413, 0.00912521, 0.0067839 ,\n",
              "       0.00677215, 0.00555458, 0.00549138, 0.00358853, 0.01058893,\n",
              "       0.00615067, 0.00511422, 0.00596411, 0.00612146, 0.00668699,\n",
              "       0.00585096, 0.00638436, 0.00592216, 0.00863741, 0.00565775,\n",
              "       0.00971829, 0.00730921, 0.00445467, 0.00570447, 0.00696997,\n",
              "       0.00783858, 0.00762191, 0.00838896, 0.00724423, 0.00598106,\n",
              "       0.00853896, 0.00623625, 0.00629953, 0.00860684, 0.00561648,\n",
              "       0.00653653, 0.00507389, 0.00506698, 0.00542535, 0.00549739,\n",
              "       0.0092282 , 0.00632996, 0.00530795, 0.00764764, 0.00768953,\n",
              "       0.00843914, 0.00636986, 0.00894484, 0.00455787, 0.00689759,\n",
              "       0.00716293, 0.00869552, 0.0081667 , 0.00576502, 0.0039656 ,\n",
              "       0.00640993, 0.00652533, 0.00759222, 0.00709597, 0.00761584,\n",
              "       0.00573361, 0.00566926, 0.00496366, 0.0043709 , 0.00307212,\n",
              "       0.00599114, 0.00609169, 0.00754659, 0.0057731 , 0.00554975,\n",
              "       0.00620389, 0.00647373, 0.00561311, 0.00714767, 0.00702245,\n",
              "       0.00505174, 0.00777282, 0.01121924, 0.0062036 , 0.00824204,\n",
              "       0.01019345, 0.00634193, 0.00816801, 0.00454734, 0.00820116,\n",
              "       0.00334092, 0.00447086, 0.00484441, 0.00855802, 0.0096537 ,\n",
              "       0.00870677, 0.00723263, 0.00417669, 0.00719622, 0.00614157,\n",
              "       0.00337638, 0.00718895, 0.00886099, 0.00667364, 0.00699878,\n",
              "       0.00406263, 0.00781656, 0.00716014, 0.00671141])"
            ]
          },
          "metadata": {},
          "execution_count": 18
        }
      ]
    },
    {
      "cell_type": "code",
      "source": [
        "scores = limiting_dist"
      ],
      "metadata": {
        "id": "yMGU_Jq8JmBv"
      },
      "execution_count": null,
      "outputs": []
    },
    {
      "cell_type": "code",
      "source": [
        "sort_idx = np.argsort(-scores)\n",
        "[tokens[i] for i in sort_idx[:20]]"
      ],
      "metadata": {
        "colab": {
          "base_uri": "https://localhost:8080/"
        },
        "id": "dpZdO8Z0JtCA",
        "outputId": "605bc33f-4409-4ea5-8afe-299d8ef8696c"
      },
      "execution_count": null,
      "outputs": [
        {
          "output_type": "execute_result",
          "data": {
            "text/plain": [
              "['I think I am obsessed with gaming in general, I spend far too much time playing games like Everquest 2 and Football Manager rather than going out and interacting with real people and when I do try to, I am always thinking in the back if my mind that I would rather be in front of the computer winning the league with Cambridge United.',\n",
              " 'When you stop playing you are at the same point as when you started; all the achievements of your 10 hour session are irretrievably locked in the game and, since you have gained nothing in the real world, you may as well pile on more achievement in the fake one.',\n",
              " 'He says that in the world of online gaming such behaviour \"was not that unusual; lots of people I knew in the game played EQ that much\".',\n",
              " 'Some of the comments were humorous: \"This game is so good I am not going to get it, there is no way I could limit the hours I would spend playing it,\" wrote Charles MacIntyre, from England.',\n",
              " 'I spend about five hours per day online playing it and I rarely get more than four to five hours sleep before getting up for work the next morning... As many of the players spend their time in MMORPGs rather than in front of the TV I fail to see how it will affect players social lives negatively.',\n",
              " 'One unnamed correspondent - all are anonymous - wrote: \"On the rare nights when my husband does come to bed at the same time as I do, I find that I am so used to sleeping by myself that it is difficult to get to sleep with another body laying next to me.',\n",
              " 'Another correspondent wrote: \"I believe that he is addicted to the online gaming, and that is the because of his depression and restlessness.\"',\n",
              " 'For the most part online gaming give me an adiction to illusory achievement, and as there is no end in sight you keep going for the mirage of the ultimate.',\n",
              " \"Can you reccomend a counsellor - this is not a wind up... but something I am increasingly concerned with... Me and my mate play online for an hour or two a day, we are both aware of how much time can disappear by sitting in front of a TV, trying to 'frag' some individual.\",\n",
              " 'When I got to the point where I was eating my dinner in front of the PC I realised things were getting silly so I am trying not to spend so much time on there.',\n",
              " 'And more and more so I find I have less and less time to play them, with and marriage and work being the main drag on my time.',\n",
              " 'Gaming is like any other pastime - it can quickly become an unhealthy obsession, whether it is spending too much time in the gym, in front of the television, or reading poetry.',\n",
              " 'But for some it is not in the least funny.',\n",
              " 'It is easier to escape into a controlled fantasy world than face reality at times - in other words the goal offered in the PC game are \"easier\" and more fun than the real world.',\n",
              " 'But my concern is for the younger generation of gamers that play for hours on end in an adult enviroment.',\n",
              " \"It is getting the balance between getting home and relasing the stress of a day by an hour or so gaming, and enjoying 'real' life...\",\n",
              " 'They are all engineered in such a way that early on in the game you progress quickly, but this progress becomes exponentially slower, requiring more and more time to reach the next level.',\n",
              " 'From morning till the early hours of the next day, the birds were singing out side and i had to hobble to the bath room cos my bladder was so full i was in pain, i would hardly eat, perhaps some toast, smoke endlessly and drink.',\n",
              " 'It came to the point where the gaming world felt more real than the real one.',\n",
              " 'But some struck a more worrying tone about the Massively Multiplayer Online Role Playing Game (MMORPG): \"\\'You need to get out more\\' could be the motto of any MMORPG.']"
            ]
          },
          "metadata": {},
          "execution_count": 15
        }
      ]
    }
  ]
}